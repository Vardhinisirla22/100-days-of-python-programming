{
 "cells": [
  {
   "cell_type": "markdown",
   "id": "a39b6227",
   "metadata": {},
   "source": [
    "\n",
    "# Math "
   ]
  },
  {
   "cell_type": "markdown",
   "id": "2f39ef83",
   "metadata": {},
   "source": [
    "1. Wap to calculate the sum of two numbers"
   ]
  },
  {
   "cell_type": "code",
   "execution_count": 2,
   "id": "28f1a99d",
   "metadata": {},
   "outputs": [
    {
     "name": "stdout",
     "output_type": "stream",
     "text": [
      "7\n"
     ]
    }
   ],
   "source": [
    "a = 5\n",
    "b = 2\n",
    "Sum = a+b\n",
    "print(Sum)"
   ]
  },
  {
   "cell_type": "markdown",
   "id": "53de02ce",
   "metadata": {},
   "source": [
    "2. Wap to calculate the difference of two numbers"
   ]
  },
  {
   "cell_type": "code",
   "execution_count": 3,
   "id": "2d39152a",
   "metadata": {},
   "outputs": [
    {
     "name": "stdout",
     "output_type": "stream",
     "text": [
      "2\n"
     ]
    }
   ],
   "source": [
    "c = 8\n",
    "d = 6\n",
    "diff = c-d\n",
    "print(diff)"
   ]
  },
  {
   "cell_type": "markdown",
   "id": "3d378e8d",
   "metadata": {},
   "source": [
    "3. Wap to calculate the product of two numbers\n"
   ]
  },
  {
   "cell_type": "code",
   "execution_count": 5,
   "id": "0a87ba3d",
   "metadata": {},
   "outputs": [
    {
     "name": "stdout",
     "output_type": "stream",
     "text": [
      "54\n"
     ]
    }
   ],
   "source": [
    "e = 6\n",
    "f = 9\n",
    "prdt = e*f\n",
    "print(prdt)\n"
   ]
  },
  {
   "cell_type": "code",
   "execution_count": null,
   "id": "5ad3a744",
   "metadata": {},
   "outputs": [],
   "source": [
    "4. Wap to calculate the division of two numbers"
   ]
  },
  {
   "cell_type": "code",
   "execution_count": 6,
   "id": "e9d0efd7",
   "metadata": {},
   "outputs": [
    {
     "name": "stdout",
     "output_type": "stream",
     "text": [
      "4.0\n"
     ]
    }
   ],
   "source": [
    "h = 8\n",
    "i = 2\n",
    "div = h/i\n",
    "print(div)"
   ]
  },
  {
   "cell_type": "code",
   "execution_count": null,
   "id": "9a1aeb30",
   "metadata": {},
   "outputs": [],
   "source": [
    "5. Wap to calculate the modulus of two numbers\n"
   ]
  },
  {
   "cell_type": "code",
   "execution_count": 7,
   "id": "1ad82754",
   "metadata": {},
   "outputs": [
    {
     "name": "stdout",
     "output_type": "stream",
     "text": [
      "1\n"
     ]
    }
   ],
   "source": [
    "j = 9\n",
    "k = 2\n",
    "mod = j%k\n",
    "print(mod)"
   ]
  },
  {
   "cell_type": "markdown",
   "id": "8853e33c",
   "metadata": {},
   "source": [
    "6. Wap to take 3 numbers as input and calucate its sum, diff, prdt, div, mod and print"
   ]
  },
  {
   "cell_type": "code",
   "execution_count": 12,
   "id": "0d51f314",
   "metadata": {},
   "outputs": [
    {
     "name": "stdout",
     "output_type": "stream",
     "text": [
      "enter 1st number3\n",
      "enter 2nd number4\n",
      "enter 3rd number2\n",
      "sum is= 9.0\n",
      "diff is= -1.0\n",
      "product is= 24.0\n",
      "division is= 0.6666666666666666\n",
      "modulus is= 3.0\n"
     ]
    }
   ],
   "source": [
    "a = float(input(\"enter 1st number\"))\n",
    "b = float(input(\"enter 2nd number\"))\n",
    "c = float(input(\"enter 3rd number\"))\n",
    "sum = a+b+c\n",
    "diff = b - a-c\n",
    "prdt = a*b*c\n",
    "div = c/a\n",
    "mod = a%b\n",
    "print(\"sum is=\", sum)\n",
    "print(\"diff is=\", diff)\n",
    "print(\"product is=\", prdt)\n",
    "print(\"division is=\", div)\n",
    "print(\"modulus is=\", mod)"
   ]
  },
  {
   "cell_type": "code",
   "execution_count": null,
   "id": "f3c8ccaf",
   "metadata": {},
   "outputs": [],
   "source": []
  }
 ],
 "metadata": {
  "kernelspec": {
   "display_name": "Python 3 (ipykernel)",
   "language": "python",
   "name": "python3"
  },
  "language_info": {
   "codemirror_mode": {
    "name": "ipython",
    "version": 3
   },
   "file_extension": ".py",
   "mimetype": "text/x-python",
   "name": "python",
   "nbconvert_exporter": "python",
   "pygments_lexer": "ipython3",
   "version": "3.11.4"
  }
 },
 "nbformat": 4,
 "nbformat_minor": 5
}
