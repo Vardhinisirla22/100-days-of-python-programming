{
 "cells": [
  {
   "cell_type": "markdown",
   "id": "c30ab961",
   "metadata": {},
   "source": [
    "# CONDITIONALS\n"
   ]
  },
  {
   "cell_type": "markdown",
   "id": "a7bf65cc",
   "metadata": {},
   "source": [
    "### Decision Making"
   ]
  },
  {
   "cell_type": "markdown",
   "id": "2f0d737d",
   "metadata": {},
   "source": [
    "1. Wap that takes a input and prints whether it is positive or negative "
   ]
  },
  {
   "cell_type": "code",
   "execution_count": 6,
   "id": "ada2808c",
   "metadata": {},
   "outputs": [
    {
     "name": "stdout",
     "output_type": "stream",
     "text": [
      "enter a number-8\n",
      "negative number\n"
     ]
    }
   ],
   "source": [
    "a = float(input(\"enter a number\"))\n",
    "if(a < 0):\n",
    " print(\"negative number\")\n",
    "if (a > 0):\n",
    " print(\"positive number\")"
   ]
  },
  {
   "cell_type": "code",
   "execution_count": 7,
   "id": "7a035ea7",
   "metadata": {},
   "outputs": [
    {
     "name": "stdout",
     "output_type": "stream",
     "text": [
      "enter a number4\n",
      "positive number\n"
     ]
    }
   ],
   "source": [
    "a = float(input(\"enter a number\"))\n",
    "if(a < 0):\n",
    " print(\"negative number\")\n",
    "if (a > 0):\n",
    " print(\"positive number\")"
   ]
  },
  {
   "cell_type": "markdown",
   "id": "1b63b7de",
   "metadata": {},
   "source": [
    "2. Wap that takes a input and prints whether it is even or odd"
   ]
  },
  {
   "cell_type": "code",
   "execution_count": 9,
   "id": "376cf26f",
   "metadata": {},
   "outputs": [
    {
     "name": "stdout",
     "output_type": "stream",
     "text": [
      "enter a number6\n",
      "even number\n"
     ]
    }
   ],
   "source": [
    "a = float(input(\"enter a number\"))\n",
    "if(a%2==0):\n",
    " print(\"even number\")\n",
    "if (a%2==1):\n",
    " print(\"odd number\")"
   ]
  },
  {
   "cell_type": "code",
   "execution_count": 10,
   "id": "13c225b5",
   "metadata": {},
   "outputs": [
    {
     "name": "stdout",
     "output_type": "stream",
     "text": [
      "enter a number3\n",
      "odd number\n"
     ]
    }
   ],
   "source": [
    "a = float(input(\"enter a number\"))\n",
    "if(a%2==0):\n",
    " print(\"even number\")\n",
    "if (a%2==1):\n",
    " print(\"odd number\")"
   ]
  },
  {
   "cell_type": "markdown",
   "id": "b738c01d",
   "metadata": {},
   "source": [
    "3. Wap that takes two inputs and prints the larger one"
   ]
  },
  {
   "cell_type": "code",
   "execution_count": 11,
   "id": "46876762",
   "metadata": {},
   "outputs": [
    {
     "name": "stdout",
     "output_type": "stream",
     "text": [
      "enter a number6\n",
      "enter a number8\n"
     ]
    }
   ],
   "source": [
    "a = float(input(\"enter a number\"))\n",
    "b = float(input(\"enter a number\"))\n",
    "if(a>b):\n",
    " print(\"larger number\")\n"
   ]
  },
  {
   "cell_type": "code",
   "execution_count": 12,
   "id": "d7fc0371",
   "metadata": {},
   "outputs": [
    {
     "name": "stdout",
     "output_type": "stream",
     "text": [
      "enter a number9\n",
      "enter a number4\n",
      "larger number\n"
     ]
    }
   ],
   "source": [
    "a = float(input(\"enter a number\"))\n",
    "b = float(input(\"enter a number\"))\n",
    "if(a>b):\n",
    " print(\"larger number\")"
   ]
  },
  {
   "cell_type": "markdown",
   "id": "fc6e82bc",
   "metadata": {},
   "source": [
    "4. Wap that takes two inputs and prints the smaller one"
   ]
  },
  {
   "cell_type": "code",
   "execution_count": 13,
   "id": "2a96c791",
   "metadata": {},
   "outputs": [
    {
     "name": "stdout",
     "output_type": "stream",
     "text": [
      "enter a number3\n",
      "enter a number7\n",
      "smaller number\n"
     ]
    }
   ],
   "source": [
    "a = float(input(\"enter a number\"))\n",
    "b = float(input(\"enter a number\"))\n",
    "if(a<b):\n",
    " print(\"smaller number\")"
   ]
  },
  {
   "cell_type": "code",
   "execution_count": 14,
   "id": "7c5d054b",
   "metadata": {},
   "outputs": [
    {
     "name": "stdout",
     "output_type": "stream",
     "text": [
      "enter a number6\n",
      "enter a number3\n"
     ]
    }
   ],
   "source": [
    "a = float(input(\"enter a number\"))\n",
    "b = float(input(\"enter a number\"))\n",
    "if(a<b):\n",
    " print(\"smaller number\")"
   ]
  },
  {
   "cell_type": "markdown",
   "id": "4d02396d",
   "metadata": {},
   "source": [
    "5. Wap that takes a input and print whether it is positive,negative or zero"
   ]
  },
  {
   "cell_type": "code",
   "execution_count": 17,
   "id": "c1b7ce28",
   "metadata": {},
   "outputs": [
    {
     "name": "stdout",
     "output_type": "stream",
     "text": [
      "enter a number7\n",
      "positive number\n"
     ]
    }
   ],
   "source": [
    "a = float(input(\"enter a number\"))\n",
    "if(a<0):\n",
    " print(\"negative number\")\n",
    "if(a>0):\n",
    "     print(\"positive number\")\n",
    "if(a==0):\n",
    "     print(\"zero number\")"
   ]
  },
  {
   "cell_type": "code",
   "execution_count": 18,
   "id": "74c6df7b",
   "metadata": {},
   "outputs": [
    {
     "name": "stdout",
     "output_type": "stream",
     "text": [
      "enter a number0\n",
      "zero number\n"
     ]
    }
   ],
   "source": [
    "a = float(input(\"enter a number\"))\n",
    "if(a<0):\n",
    " print(\"negative number\")\n",
    "if(a>0):\n",
    "     print(\"positive number\")\n",
    "if(a==0):\n",
    "     print(\"zero number\")"
   ]
  },
  {
   "cell_type": "code",
   "execution_count": 19,
   "id": "e29bacdf",
   "metadata": {},
   "outputs": [
    {
     "name": "stdout",
     "output_type": "stream",
     "text": [
      "enter a number-5\n",
      "negative number\n"
     ]
    }
   ],
   "source": [
    "a = float(input(\"enter a number\"))\n",
    "if(a<0):\n",
    " print(\"negative number\")\n",
    "if(a>0):\n",
    "     print(\"positive number\")\n",
    "if(a==0):\n",
    "     print(\"zero number\")"
   ]
  },
  {
   "cell_type": "code",
   "execution_count": null,
   "id": "88bf03c0",
   "metadata": {},
   "outputs": [],
   "source": []
  }
 ],
 "metadata": {
  "kernelspec": {
   "display_name": "Python 3 (ipykernel)",
   "language": "python",
   "name": "python3"
  },
  "language_info": {
   "codemirror_mode": {
    "name": "ipython",
    "version": 3
   },
   "file_extension": ".py",
   "mimetype": "text/x-python",
   "name": "python",
   "nbconvert_exporter": "python",
   "pygments_lexer": "ipython3",
   "version": "3.11.4"
  }
 },
 "nbformat": 4,
 "nbformat_minor": 5
}
