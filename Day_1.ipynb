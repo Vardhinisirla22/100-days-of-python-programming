{
 "cells": [
  {
   "cell_type": "markdown",
   "id": "bff1284b",
   "metadata": {},
   "source": [
    "# Basic concepts"
   ]
  },
  {
   "cell_type": "markdown",
   "id": "c9dc2bbc",
   "metadata": {},
   "source": [
    "1. Print hello world"
   ]
  },
  {
   "cell_type": "code",
   "execution_count": 2,
   "id": "9e4446cc",
   "metadata": {},
   "outputs": [
    {
     "name": "stdout",
     "output_type": "stream",
     "text": [
      "Hello world\n"
     ]
    }
   ],
   "source": [
    "print(\"Hello world\")"
   ]
  },
  {
   "cell_type": "markdown",
   "id": "a0b33ea0",
   "metadata": {},
   "source": [
    "2. print your name"
   ]
  },
  {
   "cell_type": "code",
   "execution_count": 3,
   "id": "9869b9d8",
   "metadata": {},
   "outputs": [
    {
     "name": "stdout",
     "output_type": "stream",
     "text": [
      "vardhini\n"
     ]
    }
   ],
   "source": [
    "print(\"vardhini\")"
   ]
  },
  {
   "cell_type": "markdown",
   "id": "879bd8a0",
   "metadata": {},
   "source": [
    "3. print five vegetables, fruits and numbers"
   ]
  },
  {
   "cell_type": "code",
   "execution_count": 5,
   "id": "0601307e",
   "metadata": {},
   "outputs": [
    {
     "name": "stdout",
     "output_type": "stream",
     "text": [
      " vegetables = onion,potato,brinjal,garlic,tomato\n",
      " fruits = apple,orange,kiwi,grapes,avacado\n",
      " numbers = 1,2,3,4,5\n"
     ]
    }
   ],
   "source": [
    "print(\" vegetables = onion,potato,brinjal,garlic,tomato\\n fruits = apple,orange,kiwi,grapes,avacado\\n numbers = 1,2,3,4,5\")"
   ]
  },
  {
   "cell_type": "markdown",
   "id": "3e0ad6fa",
   "metadata": {},
   "source": [
    "# VARIABLES"
   ]
  },
  {
   "cell_type": "raw",
   "id": "ba246eac",
   "metadata": {},
   "source": [
    "A variable is something that can be changed and stores a value"
   ]
  },
  {
   "cell_type": "markdown",
   "id": "1def66ff",
   "metadata": {},
   "source": [
    "4. Assign a name to a variable"
   ]
  },
  {
   "cell_type": "code",
   "execution_count": 6,
   "id": "e1f31860",
   "metadata": {},
   "outputs": [],
   "source": [
    "B = \"hello\""
   ]
  },
  {
   "cell_type": "markdown",
   "id": "bd2ae519",
   "metadata": {},
   "source": [
    "5. Assign 5 different names to a variable"
   ]
  },
  {
   "cell_type": "code",
   "execution_count": 8,
   "id": "d50ed594",
   "metadata": {},
   "outputs": [],
   "source": [
    "V = \"Bat,Cat,Dog,Rat,Hen\""
   ]
  },
  {
   "cell_type": "markdown",
   "id": "d2f4f4a9",
   "metadata": {},
   "source": [
    "6. Assign a number to a variable"
   ]
  },
  {
   "cell_type": "code",
   "execution_count": 10,
   "id": "a83ede49",
   "metadata": {},
   "outputs": [],
   "source": [
    "L = 1"
   ]
  },
  {
   "cell_type": "markdown",
   "id": "c2786801",
   "metadata": {},
   "source": [
    "7. Assign 10 different numbers to variables"
   ]
  },
  {
   "cell_type": "code",
   "execution_count": 11,
   "id": "cc6a28f5",
   "metadata": {},
   "outputs": [],
   "source": [
    "O = 1, 2, 3, 4, 5, 6, 7, 8, 9, 10"
   ]
  },
  {
   "cell_type": "markdown",
   "id": "c1d7b84e",
   "metadata": {},
   "source": [
    "8. Take 3 names and 3 variables"
   ]
  },
  {
   "cell_type": "code",
   "execution_count": 12,
   "id": "8f49880b",
   "metadata": {},
   "outputs": [],
   "source": [
    "A = \"Lab\"\n",
    "B = \"husky\"\n",
    "C = \"golden\""
   ]
  },
  {
   "cell_type": "markdown",
   "id": "e90078f6",
   "metadata": {},
   "source": [
    "# Variable Types"
   ]
  },
  {
   "cell_type": "code",
   "execution_count": null,
   "id": "a3345ac3",
   "metadata": {},
   "outputs": [],
   "source": [
    "1. Write 3 variables of string type and print"
   ]
  },
  {
   "cell_type": "code",
   "execution_count": 26,
   "id": "1b5ec61d",
   "metadata": {},
   "outputs": [
    {
     "name": "stdout",
     "output_type": "stream",
     "text": [
      "Fruit =  Apple\n",
      "Vegetable =  onion\n",
      "Flower =  Rose\n"
     ]
    }
   ],
   "source": [
    "F = \"Apple\"\n",
    "V = \"onion\"\n",
    "A = \"Rose\"\n",
    "print(\"Fruit =  \" + F)\n",
    "print(\"Vegetable =  \" + V)\n",
    "print(\"Flower =  \"+ A)"
   ]
  },
  {
   "cell_type": "markdown",
   "id": "15b4d3c4",
   "metadata": {},
   "source": [
    "2. write a sentence of string type"
   ]
  },
  {
   "cell_type": "code",
   "execution_count": 28,
   "id": "8a885dca",
   "metadata": {},
   "outputs": [
    {
     "name": "stdout",
     "output_type": "stream",
     "text": [
      "I have Two dogs\n"
     ]
    }
   ],
   "source": [
    "cat = \"I have Two dogs\"\n",
    "print(cat)"
   ]
  },
  {
   "cell_type": "markdown",
   "id": "dee34c9d",
   "metadata": {},
   "source": [
    "3. Assign two numbers of int type and print "
   ]
  },
  {
   "cell_type": "code",
   "execution_count": 37,
   "id": "7bbe33f1",
   "metadata": {},
   "outputs": [
    {
     "name": "stdout",
     "output_type": "stream",
     "text": [
      "1 2\n"
     ]
    }
   ],
   "source": [
    "a = 1\n",
    "b = 2\n",
    "print(a,b)"
   ]
  },
  {
   "cell_type": "markdown",
   "id": "e9a0f3fd",
   "metadata": {},
   "source": [
    "4. Assign two numbers of float type and print "
   ]
  },
  {
   "cell_type": "code",
   "execution_count": 41,
   "id": "4ece0da9",
   "metadata": {},
   "outputs": [
    {
     "name": "stdout",
     "output_type": "stream",
     "text": [
      "1.5 2.8\n"
     ]
    }
   ],
   "source": [
    "a = 1.5\n",
    "b = 2.8\n",
    "print(a,b)"
   ]
  },
  {
   "cell_type": "markdown",
   "id": "0d2c2f27",
   "metadata": {},
   "source": [
    "5. Write two variables of boolean type and print "
   ]
  },
  {
   "cell_type": "code",
   "execution_count": 46,
   "id": "370dcd5c",
   "metadata": {},
   "outputs": [
    {
     "name": "stdout",
     "output_type": "stream",
     "text": [
      "True False\n"
     ]
    }
   ],
   "source": [
    "a = True\n",
    "b = False\n",
    "print(a,b)"
   ]
  },
  {
   "cell_type": "markdown",
   "id": "53525b41",
   "metadata": {},
   "source": [
    "# USER INPUT"
   ]
  },
  {
   "cell_type": "markdown",
   "id": "4a92de4b",
   "metadata": {},
   "source": [
    "1. Write a program to take a input and print it"
   ]
  },
  {
   "cell_type": "code",
   "execution_count": 49,
   "id": "93b09548",
   "metadata": {},
   "outputs": [
    {
     "name": "stdout",
     "output_type": "stream",
     "text": [
      "Enter about your dog:i love my dog and i love to pet it\n",
      "i love my dog and i love to pet it\n"
     ]
    }
   ],
   "source": [
    "A = input(\"Enter about your dog:\") \n",
    "print(A)"
   ]
  },
  {
   "cell_type": "markdown",
   "id": "99f6eaae",
   "metadata": {},
   "source": [
    "2. Write a program to take your age as input and print it"
   ]
  },
  {
   "cell_type": "code",
   "execution_count": 52,
   "id": "4d82480d",
   "metadata": {},
   "outputs": [
    {
     "name": "stdout",
     "output_type": "stream",
     "text": [
      "enter your age:15\n",
      "AGE : 15\n"
     ]
    }
   ],
   "source": [
    "Age = input(\"enter your age:\")\n",
    "print (\"AGE : \" +Age)"
   ]
  },
  {
   "cell_type": "code",
   "execution_count": null,
   "id": "2eaa99b5",
   "metadata": {},
   "outputs": [],
   "source": []
  }
 ],
 "metadata": {
  "kernelspec": {
   "display_name": "Python 3 (ipykernel)",
   "language": "python",
   "name": "python3"
  },
  "language_info": {
   "codemirror_mode": {
    "name": "ipython",
    "version": 3
   },
   "file_extension": ".py",
   "mimetype": "text/x-python",
   "name": "python",
   "nbconvert_exporter": "python",
   "pygments_lexer": "ipython3",
   "version": "3.11.4"
  }
 },
 "nbformat": 4,
 "nbformat_minor": 5
}
